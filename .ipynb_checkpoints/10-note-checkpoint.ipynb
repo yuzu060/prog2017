{
 "cells": [
  {
   "cell_type": "code",
   "execution_count": 1,
   "metadata": {
    "collapsed": false
   },
   "outputs": [
    {
     "data": {
      "text/plain": [
       "2"
      ]
     },
     "execution_count": 1,
     "metadata": {},
     "output_type": "execute_result"
    }
   ],
   "source": [
    "1+1"
   ]
  },
  {
   "cell_type": "code",
   "execution_count": 2,
   "metadata": {
    "collapsed": true
   },
   "outputs": [],
   "source": [
    "with open('c:/cit/test.txt', 'w', encoding='utf-8') as test_file:\n",
    " test_file.write('Hello!') #128"
   ]
  },
  {
   "cell_type": "markdown",
   "metadata": {},
   "source": [
    "with open('ファイル名', 'w', encoding='utf-8') as 変数名:\n",
    "　変数名を使ったプログラム　ファイルが作られる\n",
    " ｗ（write）ファイルに書いてね\n",
    " 文字を数値に変換　UTF-8\n",
    " open開くこと　そのファイルを何て呼ぶか\n",
    " "
   ]
  },
  {
   "cell_type": "code",
   "execution_count": 7,
   "metadata": {
    "collapsed": false
   },
   "outputs": [],
   "source": [
    "with open('c:/cit/test.txt', 'a', encoding='utf-8') as test_file:\n",
    " test_file.write('Hello,world')\n",
    "#129"
   ]
  },
  {
   "cell_type": "markdown",
   "metadata": {},
   "source": [
    "w上書き　a追記"
   ]
  },
  {
   "cell_type": "code",
   "execution_count": 11,
   "metadata": {
    "collapsed": false
   },
   "outputs": [],
   "source": [
    "with open('c:/cit/record.txt', 'w', encoding='utf-8') as test_file:\n",
    "  for x in range(1,100):\n",
    "      test_file.write (str(x))"
   ]
  },
  {
   "cell_type": "code",
   "execution_count": 21,
   "metadata": {
    "collapsed": false
   },
   "outputs": [],
   "source": [
    "with open('c:/cit/record.txt', 'w', encoding='utf-8') as test_file:\n",
    "  for x in range(1,100):\n",
    "   test_file.write(str(x)+'\\n')\n",
    "#130"
   ]
  },
  {
   "cell_type": "code",
   "execution_count": 24,
   "metadata": {
    "collapsed": false
   },
   "outputs": [],
   "source": [
    "with open ('c:/cit/record.csv','w', encoding='utf-8') as test_file:\n",
    "  for i in range(1,10):\n",
    "     for j in range(1,10):\n",
    "         test_file.write(str(i * j )+ ',')\n",
    "     test_file.write('\\n')\n",
    "#131"
   ]
  },
  {
   "cell_type": "markdown",
   "metadata": {},
   "source": [
    "jの計算が終わったら改行するようにする　csvとよばれる書き方"
   ]
  },
  {
   "cell_type": "code",
   "execution_count": null,
   "metadata": {
    "collapsed": true
   },
   "outputs": [],
   "source": []
  }
 ],
 "metadata": {
  "kernelspec": {
   "display_name": "Python 3",
   "language": "python",
   "name": "python3"
  },
  "language_info": {
   "codemirror_mode": {
    "name": "ipython",
    "version": 3
   },
   "file_extension": ".py",
   "mimetype": "text/x-python",
   "name": "python",
   "nbconvert_exporter": "python",
   "pygments_lexer": "ipython3",
   "version": "3.6.0"
  }
 },
 "nbformat": 4,
 "nbformat_minor": 2
}
